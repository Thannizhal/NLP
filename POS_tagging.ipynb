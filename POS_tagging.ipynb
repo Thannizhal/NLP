{
 "cells": [
  {
   "cell_type": "code",
   "execution_count": 3,
   "id": "d252239b",
   "metadata": {},
   "outputs": [],
   "source": [
    "import spacy"
   ]
  },
  {
   "cell_type": "code",
   "execution_count": 4,
   "id": "c6ab866d",
   "metadata": {},
   "outputs": [],
   "source": [
    "nlp = spacy.load(\"en_core_web_sm\")"
   ]
  },
  {
   "cell_type": "code",
   "execution_count": 5,
   "id": "6631e2d0",
   "metadata": {},
   "outputs": [],
   "source": [
    "doc=nlp(\"Elon flew to mars yesterday. He carried biryani masala with him\")"
   ]
  },
  {
   "cell_type": "code",
   "execution_count": 8,
   "id": "bb86e131",
   "metadata": {},
   "outputs": [
    {
     "name": "stdout",
     "output_type": "stream",
     "text": [
      "Elon  |  96  |  PROPN\n",
      "flew  |  100  |  VERB\n",
      "to  |  85  |  ADP\n",
      "mars  |  92  |  NOUN\n",
      "yesterday  |  92  |  NOUN\n",
      ".  |  97  |  PUNCT\n",
      "He  |  95  |  PRON\n",
      "carried  |  100  |  VERB\n",
      "biryani  |  84  |  ADJ\n",
      "masala  |  92  |  NOUN\n",
      "with  |  85  |  ADP\n",
      "him  |  95  |  PRON\n"
     ]
    }
   ],
   "source": [
    "for token in doc:\n",
    "    print(token.text,' | ',token.pos,' | ',token.pos_)"
   ]
  },
  {
   "cell_type": "code",
   "execution_count": 9,
   "id": "2c08e4e2",
   "metadata": {},
   "outputs": [
    {
     "data": {
      "text/plain": [
       "['tok2vec', 'tagger', 'parser', 'attribute_ruler', 'lemmatizer', 'ner']"
      ]
     },
     "execution_count": 9,
     "metadata": {},
     "output_type": "execute_result"
    }
   ],
   "source": [
    "nlp.pipe_names"
   ]
  },
  {
   "cell_type": "code",
   "execution_count": 10,
   "id": "a38a949b",
   "metadata": {},
   "outputs": [
    {
     "data": {
      "text/plain": [
       "[('tok2vec', <spacy.pipeline.tok2vec.Tok2Vec at 0x15d85b620f0>),\n",
       " ('tagger', <spacy.pipeline.tagger.Tagger at 0x15d85b61d90>),\n",
       " ('parser', <spacy.pipeline.dep_parser.DependencyParser at 0x15d85a48900>),\n",
       " ('attribute_ruler',\n",
       "  <spacy.pipeline.attributeruler.AttributeRuler at 0x15d85d161d0>),\n",
       " ('lemmatizer', <spacy.lang.en.lemmatizer.EnglishLemmatizer at 0x15d85d0b050>),\n",
       " ('ner', <spacy.pipeline.ner.EntityRecognizer at 0x15d857eba70>)]"
      ]
     },
     "execution_count": 10,
     "metadata": {},
     "output_type": "execute_result"
    }
   ],
   "source": [
    "nlp.pipeline"
   ]
  },
  {
   "cell_type": "code",
   "execution_count": 12,
   "id": "942e835a",
   "metadata": {},
   "outputs": [
    {
     "name": "stdout",
     "output_type": "stream",
     "text": [
      "Wow  |  INTJ  |  interjection  |  UH  |  interjection\n",
      "!  |  PUNCT  |  punctuation  |  .  |  punctuation mark, sentence closer\n",
      "Dr.  |  PROPN  |  proper noun  |  NNP  |  noun, proper singular\n",
      "Strange  |  PROPN  |  proper noun  |  NNP  |  noun, proper singular\n",
      "made  |  VERB  |  verb  |  VBD  |  verb, past tense\n",
      "265  |  NUM  |  numeral  |  CD  |  cardinal number\n",
      "million  |  NUM  |  numeral  |  CD  |  cardinal number\n",
      "$  |  NUM  |  numeral  |  CD  |  cardinal number\n",
      "on  |  ADP  |  adposition  |  IN  |  conjunction, subordinating or preposition\n",
      "the  |  DET  |  determiner  |  DT  |  determiner\n",
      "very  |  ADV  |  adverb  |  RB  |  adverb\n",
      "first  |  ADJ  |  adjective  |  JJ  |  adjective (English), other noun-modifier (Chinese)\n",
      "day  |  NOUN  |  noun  |  NN  |  noun, singular or mass\n"
     ]
    }
   ],
   "source": [
    "doc = nlp(\"Wow! Dr. Strange made 265 million $ on the very first day\")\n",
    "\n",
    "for token in doc:\n",
    "    print(token,\" | \", token.pos_, \" | \", spacy.explain(token.pos_),\" | \",token.tag_,\" | \",spacy.explain(token.tag_))"
   ]
  },
  {
   "cell_type": "code",
   "execution_count": 17,
   "id": "c1834793",
   "metadata": {},
   "outputs": [],
   "source": [
    "search_criteria = []\n",
    "for token in doc:\n",
    "    if token.pos_ == 'NUM':\n",
    "        search_criteria.append(token.text)"
   ]
  },
  {
   "cell_type": "code",
   "execution_count": 18,
   "id": "b47b6b32",
   "metadata": {},
   "outputs": [
    {
     "data": {
      "text/plain": [
       "['265', 'million', '$']"
      ]
     },
     "execution_count": 18,
     "metadata": {},
     "output_type": "execute_result"
    }
   ],
   "source": [
    "search_criteria"
   ]
  },
  {
   "cell_type": "code",
   "execution_count": null,
   "id": "b1797c74",
   "metadata": {},
   "outputs": [],
   "source": []
  }
 ],
 "metadata": {
  "kernelspec": {
   "display_name": "Python 3 (ipykernel)",
   "language": "python",
   "name": "python3"
  },
  "language_info": {
   "codemirror_mode": {
    "name": "ipython",
    "version": 3
   },
   "file_extension": ".py",
   "mimetype": "text/x-python",
   "name": "python",
   "nbconvert_exporter": "python",
   "pygments_lexer": "ipython3",
   "version": "3.11.4"
  }
 },
 "nbformat": 4,
 "nbformat_minor": 5
}
