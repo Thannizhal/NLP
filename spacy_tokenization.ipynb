{
 "cells": [
  {
   "cell_type": "code",
   "execution_count": 1,
   "id": "03d9da24",
   "metadata": {},
   "outputs": [],
   "source": [
    "import spacy"
   ]
  },
  {
   "cell_type": "code",
   "execution_count": 2,
   "id": "c68cbdad",
   "metadata": {},
   "outputs": [],
   "source": [
    "nlp = spacy.blank('en')\n",
    "\n",
    "doc = nlp(\"Dr. Strange loves pav bhaji of mumbai as it costs only 2$ per plate.\")"
   ]
  },
  {
   "cell_type": "code",
   "execution_count": 3,
   "id": "e3951c9f",
   "metadata": {},
   "outputs": [
    {
     "name": "stdout",
     "output_type": "stream",
     "text": [
      "Dr.\n",
      "Strange\n",
      "loves\n",
      "pav\n",
      "bhaji\n",
      "of\n",
      "mumbai\n",
      "as\n",
      "it\n",
      "costs\n",
      "only\n",
      "2\n",
      "$\n",
      "per\n",
      "plate\n",
      ".\n"
     ]
    }
   ],
   "source": [
    "for token in doc:\n",
    "    print(token)"
   ]
  },
  {
   "cell_type": "code",
   "execution_count": 4,
   "id": "32027bbd",
   "metadata": {},
   "outputs": [
    {
     "data": {
      "text/plain": [
       "Dr."
      ]
     },
     "execution_count": 4,
     "metadata": {},
     "output_type": "execute_result"
    }
   ],
   "source": [
    "doc[0]"
   ]
  },
  {
   "cell_type": "code",
   "execution_count": 5,
   "id": "48753eca",
   "metadata": {},
   "outputs": [
    {
     "name": "stdout",
     "output_type": "stream",
     "text": [
      "Let\n",
      "'s\n",
      "go\n",
      "to\n",
      "N.Y.\n",
      "!\n"
     ]
    }
   ],
   "source": [
    "doc1 = nlp(\"Let's go to N.Y.!\")\n",
    "\n",
    "for token in doc1:\n",
    "    print(token)"
   ]
  },
  {
   "cell_type": "code",
   "execution_count": 6,
   "id": "4fc7f066",
   "metadata": {},
   "outputs": [
    {
     "data": {
      "text/plain": [
       "spacy.lang.en.English"
      ]
     },
     "execution_count": 6,
     "metadata": {},
     "output_type": "execute_result"
    }
   ],
   "source": [
    "type(nlp)"
   ]
  },
  {
   "cell_type": "code",
   "execution_count": 7,
   "id": "3d9949a4",
   "metadata": {},
   "outputs": [
    {
     "data": {
      "text/plain": [
       "spacy.tokens.doc.Doc"
      ]
     },
     "execution_count": 7,
     "metadata": {},
     "output_type": "execute_result"
    }
   ],
   "source": [
    "type(doc)"
   ]
  },
  {
   "cell_type": "code",
   "execution_count": 8,
   "id": "b0fbf61d",
   "metadata": {},
   "outputs": [
    {
     "data": {
      "text/plain": [
       "spacy.tokens.token.Token"
      ]
     },
     "execution_count": 8,
     "metadata": {},
     "output_type": "execute_result"
    }
   ],
   "source": [
    "type(token)"
   ]
  },
  {
   "cell_type": "code",
   "execution_count": 9,
   "id": "73caab89",
   "metadata": {},
   "outputs": [
    {
     "data": {
      "text/plain": [
       "Dr. Strange loves pav"
      ]
     },
     "execution_count": 9,
     "metadata": {},
     "output_type": "execute_result"
    }
   ],
   "source": [
    "doc[0:4]\n"
   ]
  },
  {
   "cell_type": "code",
   "execution_count": 10,
   "id": "9ef81093",
   "metadata": {},
   "outputs": [
    {
     "data": {
      "text/plain": [
       "spacy.tokens.span.Span"
      ]
     },
     "execution_count": 10,
     "metadata": {},
     "output_type": "execute_result"
    }
   ],
   "source": [
    "span=doc[0:4]\n",
    "type(span)"
   ]
  },
  {
   "cell_type": "code",
   "execution_count": 11,
   "id": "e58946b6",
   "metadata": {},
   "outputs": [],
   "source": [
    "token0=doc[0]"
   ]
  },
  {
   "cell_type": "code",
   "execution_count": 12,
   "id": "00684ff9",
   "metadata": {},
   "outputs": [
    {
     "data": {
      "text/plain": [
       "spacy.tokens.token.Token"
      ]
     },
     "execution_count": 12,
     "metadata": {},
     "output_type": "execute_result"
    }
   ],
   "source": [
    "type(token0)"
   ]
  },
  {
   "cell_type": "code",
   "execution_count": 13,
   "id": "2ddf1969",
   "metadata": {},
   "outputs": [
    {
     "data": {
      "text/plain": [
       "['_',\n",
       " '__bytes__',\n",
       " '__class__',\n",
       " '__delattr__',\n",
       " '__dir__',\n",
       " '__doc__',\n",
       " '__eq__',\n",
       " '__format__',\n",
       " '__ge__',\n",
       " '__getattribute__',\n",
       " '__getstate__',\n",
       " '__gt__',\n",
       " '__hash__',\n",
       " '__init__',\n",
       " '__init_subclass__',\n",
       " '__le__',\n",
       " '__len__',\n",
       " '__lt__',\n",
       " '__ne__',\n",
       " '__new__',\n",
       " '__pyx_vtable__',\n",
       " '__reduce__',\n",
       " '__reduce_ex__',\n",
       " '__repr__',\n",
       " '__setattr__',\n",
       " '__sizeof__',\n",
       " '__str__',\n",
       " '__subclasshook__',\n",
       " '__unicode__',\n",
       " 'ancestors',\n",
       " 'check_flag',\n",
       " 'children',\n",
       " 'cluster',\n",
       " 'conjuncts',\n",
       " 'dep',\n",
       " 'dep_',\n",
       " 'doc',\n",
       " 'ent_id',\n",
       " 'ent_id_',\n",
       " 'ent_iob',\n",
       " 'ent_iob_',\n",
       " 'ent_kb_id',\n",
       " 'ent_kb_id_',\n",
       " 'ent_type',\n",
       " 'ent_type_',\n",
       " 'get_extension',\n",
       " 'has_dep',\n",
       " 'has_extension',\n",
       " 'has_head',\n",
       " 'has_morph',\n",
       " 'has_vector',\n",
       " 'head',\n",
       " 'i',\n",
       " 'idx',\n",
       " 'iob_strings',\n",
       " 'is_alpha',\n",
       " 'is_ancestor',\n",
       " 'is_ascii',\n",
       " 'is_bracket',\n",
       " 'is_currency',\n",
       " 'is_digit',\n",
       " 'is_left_punct',\n",
       " 'is_lower',\n",
       " 'is_oov',\n",
       " 'is_punct',\n",
       " 'is_quote',\n",
       " 'is_right_punct',\n",
       " 'is_sent_end',\n",
       " 'is_sent_start',\n",
       " 'is_space',\n",
       " 'is_stop',\n",
       " 'is_title',\n",
       " 'is_upper',\n",
       " 'lang',\n",
       " 'lang_',\n",
       " 'left_edge',\n",
       " 'lefts',\n",
       " 'lemma',\n",
       " 'lemma_',\n",
       " 'lex',\n",
       " 'lex_id',\n",
       " 'like_email',\n",
       " 'like_num',\n",
       " 'like_url',\n",
       " 'lower',\n",
       " 'lower_',\n",
       " 'morph',\n",
       " 'n_lefts',\n",
       " 'n_rights',\n",
       " 'nbor',\n",
       " 'norm',\n",
       " 'norm_',\n",
       " 'orth',\n",
       " 'orth_',\n",
       " 'pos',\n",
       " 'pos_',\n",
       " 'prefix',\n",
       " 'prefix_',\n",
       " 'prob',\n",
       " 'rank',\n",
       " 'remove_extension',\n",
       " 'right_edge',\n",
       " 'rights',\n",
       " 'sent',\n",
       " 'sent_start',\n",
       " 'sentiment',\n",
       " 'set_extension',\n",
       " 'set_morph',\n",
       " 'shape',\n",
       " 'shape_',\n",
       " 'similarity',\n",
       " 'subtree',\n",
       " 'suffix',\n",
       " 'suffix_',\n",
       " 'tag',\n",
       " 'tag_',\n",
       " 'tensor',\n",
       " 'text',\n",
       " 'text_with_ws',\n",
       " 'vector',\n",
       " 'vector_norm',\n",
       " 'vocab',\n",
       " 'whitespace_']"
      ]
     },
     "execution_count": 13,
     "metadata": {},
     "output_type": "execute_result"
    }
   ],
   "source": [
    "dir(token0)"
   ]
  },
  {
   "cell_type": "code",
   "execution_count": 14,
   "id": "bd063fe7",
   "metadata": {},
   "outputs": [],
   "source": [
    "doc3=nlp(\"Peter gave robin two $ as a debt!!!\")"
   ]
  },
  {
   "cell_type": "code",
   "execution_count": 15,
   "id": "219766e1",
   "metadata": {},
   "outputs": [],
   "source": [
    "token1=doc3[0]"
   ]
  },
  {
   "cell_type": "code",
   "execution_count": 16,
   "id": "51f9c3e9",
   "metadata": {},
   "outputs": [
    {
     "data": {
      "text/plain": [
       "spacy.tokens.token.Token"
      ]
     },
     "execution_count": 16,
     "metadata": {},
     "output_type": "execute_result"
    }
   ],
   "source": [
    "type(token1)"
   ]
  },
  {
   "cell_type": "code",
   "execution_count": 17,
   "id": "d24b7d7d",
   "metadata": {},
   "outputs": [
    {
     "data": {
      "text/plain": [
       "Peter"
      ]
     },
     "execution_count": 17,
     "metadata": {},
     "output_type": "execute_result"
    }
   ],
   "source": [
    "token1"
   ]
  },
  {
   "cell_type": "code",
   "execution_count": 18,
   "id": "9bfa4dfe",
   "metadata": {},
   "outputs": [
    {
     "data": {
      "text/plain": [
       "True"
      ]
     },
     "execution_count": 18,
     "metadata": {},
     "output_type": "execute_result"
    }
   ],
   "source": [
    "token1.is_alpha"
   ]
  },
  {
   "cell_type": "code",
   "execution_count": 19,
   "id": "ce1d2c42",
   "metadata": {},
   "outputs": [
    {
     "data": {
      "text/plain": [
       "False"
      ]
     },
     "execution_count": 19,
     "metadata": {},
     "output_type": "execute_result"
    }
   ],
   "source": [
    "token1.like_num"
   ]
  },
  {
   "cell_type": "code",
   "execution_count": 20,
   "id": "838c5117",
   "metadata": {},
   "outputs": [
    {
     "data": {
      "text/plain": [
       "'a'"
      ]
     },
     "execution_count": 20,
     "metadata": {},
     "output_type": "execute_result"
    }
   ],
   "source": [
    "token3=doc3[-5]\n",
    "token3.text"
   ]
  },
  {
   "cell_type": "code",
   "execution_count": 21,
   "id": "e2fda344",
   "metadata": {},
   "outputs": [
    {
     "data": {
      "text/plain": [
       "False"
      ]
     },
     "execution_count": 21,
     "metadata": {},
     "output_type": "execute_result"
    }
   ],
   "source": [
    "token3.like_num"
   ]
  },
  {
   "cell_type": "code",
   "execution_count": 22,
   "id": "9a755b73",
   "metadata": {},
   "outputs": [
    {
     "data": {
      "text/plain": [
       "True"
      ]
     },
     "execution_count": 22,
     "metadata": {},
     "output_type": "execute_result"
    }
   ],
   "source": [
    "token3.is_alpha"
   ]
  },
  {
   "cell_type": "code",
   "execution_count": 23,
   "id": "4a86f474",
   "metadata": {},
   "outputs": [
    {
     "data": {
      "text/plain": [
       "'debt'"
      ]
     },
     "execution_count": 23,
     "metadata": {},
     "output_type": "execute_result"
    }
   ],
   "source": [
    "token4=doc3[-4]\n",
    "token4.text"
   ]
  },
  {
   "cell_type": "code",
   "execution_count": 24,
   "id": "771808fb",
   "metadata": {},
   "outputs": [
    {
     "data": {
      "text/plain": [
       "False"
      ]
     },
     "execution_count": 24,
     "metadata": {},
     "output_type": "execute_result"
    }
   ],
   "source": [
    "token4.is_currency"
   ]
  },
  {
   "cell_type": "code",
   "execution_count": 25,
   "id": "e2f5cb36",
   "metadata": {},
   "outputs": [
    {
     "data": {
      "text/plain": [
       "True"
      ]
     },
     "execution_count": 25,
     "metadata": {},
     "output_type": "execute_result"
    }
   ],
   "source": [
    "token4.is_alpha"
   ]
  },
  {
   "cell_type": "code",
   "execution_count": 26,
   "id": "57e85b84",
   "metadata": {},
   "outputs": [
    {
     "data": {
      "text/plain": [
       "False"
      ]
     },
     "execution_count": 26,
     "metadata": {},
     "output_type": "execute_result"
    }
   ],
   "source": [
    "token4.like_num"
   ]
  },
  {
   "cell_type": "code",
   "execution_count": 27,
   "id": "1bf27f81",
   "metadata": {},
   "outputs": [
    {
     "name": "stdout",
     "output_type": "stream",
     "text": [
      "Peter ===> index : 0 is-alpha: True like-num: False is-Currency: False is-punctuation: False\n",
      "gave ===> index : 1 is-alpha: True like-num: False is-Currency: False is-punctuation: False\n",
      "robin ===> index : 2 is-alpha: True like-num: False is-Currency: False is-punctuation: False\n",
      "two ===> index : 3 is-alpha: True like-num: True is-Currency: False is-punctuation: False\n",
      "$ ===> index : 4 is-alpha: False like-num: False is-Currency: True is-punctuation: False\n",
      "as ===> index : 5 is-alpha: True like-num: False is-Currency: False is-punctuation: False\n",
      "a ===> index : 6 is-alpha: True like-num: False is-Currency: False is-punctuation: False\n",
      "debt ===> index : 7 is-alpha: True like-num: False is-Currency: False is-punctuation: False\n",
      "! ===> index : 8 is-alpha: False like-num: False is-Currency: False is-punctuation: True\n",
      "! ===> index : 9 is-alpha: False like-num: False is-Currency: False is-punctuation: True\n",
      "! ===> index : 10 is-alpha: False like-num: False is-Currency: False is-punctuation: True\n"
     ]
    }
   ],
   "source": [
    "for token in doc3:\n",
    "    print(token,\"===>\",\"index :\", token.i,\n",
    "         \"is-alpha:\",token.is_alpha,\n",
    "         \"like-num:\",token.like_num,\n",
    "         \"is-Currency:\",token.is_currency,\n",
    "         \"is-punctuation:\",token.is_punct)"
   ]
  },
  {
   "cell_type": "code",
   "execution_count": 29,
   "id": "aa65833f",
   "metadata": {},
   "outputs": [],
   "source": [
    "with open('Data/students.txt') as f:\n",
    "    text = f.readlines()"
   ]
  },
  {
   "cell_type": "code",
   "execution_count": 30,
   "id": "73c02b31",
   "metadata": {},
   "outputs": [
    {
     "data": {
      "text/plain": [
       "['Dayton high school, 8th grade students information\\n',\n",
       " '==================================================\\n',\n",
       " '\\n',\n",
       " 'Name\\tbirth day   \\temail\\n',\n",
       " '-----\\t------------\\t------\\n',\n",
       " 'Virat   5 June, 1882    virat@kohli.com\\n',\n",
       " 'Maria\\t12 April, 2001  maria@sharapova.com\\n',\n",
       " 'Serena  24 June, 1998   serena@williams.com \\n',\n",
       " 'Joe      1 May, 1997    joe@root.com\\n',\n",
       " '\\n',\n",
       " '\\n',\n",
       " '\\n']"
      ]
     },
     "execution_count": 30,
     "metadata": {},
     "output_type": "execute_result"
    }
   ],
   "source": [
    "text"
   ]
  },
  {
   "cell_type": "code",
   "execution_count": 31,
   "id": "3173482b",
   "metadata": {},
   "outputs": [
    {
     "data": {
      "text/plain": [
       "'Dayton high school, 8th grade students information\\n ==================================================\\n \\n Name\\tbirth day   \\temail\\n -----\\t------------\\t------\\n Virat   5 June, 1882    virat@kohli.com\\n Maria\\t12 April, 2001  maria@sharapova.com\\n Serena  24 June, 1998   serena@williams.com \\n Joe      1 May, 1997    joe@root.com\\n \\n \\n \\n'"
      ]
     },
     "execution_count": 31,
     "metadata": {},
     "output_type": "execute_result"
    }
   ],
   "source": [
    "text = ' '.join(text)\n",
    "text"
   ]
  },
  {
   "cell_type": "code",
   "execution_count": null,
   "id": "c7f2ff3d",
   "metadata": {},
   "outputs": [],
   "source": [
    "doc2 = nlp(text)\n",
    "\n",
    "for token in doc2:\n",
    "    if token.like_email:\n",
    "        "
   ]
  },
  {
   "cell_type": "code",
   "execution_count": 32,
   "id": "85f444d7",
   "metadata": {},
   "outputs": [],
   "source": [
    "with open('Data/nimalan.txt') as f:\n",
    "    text = f.readlines()"
   ]
  },
  {
   "cell_type": "code",
   "execution_count": 33,
   "id": "e566a61f",
   "metadata": {},
   "outputs": [
    {
     "data": {
      "text/plain": [
       "['Nimalan\\t9878787230\\n',\n",
       " 'Nimalan\\t9878787230\\n',\n",
       " 'Nimalan\\t9878787230\\n',\n",
       " 'Nimalan\\t9878787230\\n',\n",
       " 'Nimalan\\t9878787230\\n',\n",
       " 'Nimalan\\t9878787230\\n',\n",
       " 'Nimalan\\t9878787230\\n',\n",
       " 'Nimalan\\t9878787230\\n',\n",
       " 'Nimalan\\t9878787230\\n',\n",
       " 'Nimalan\\t9878787230\\n',\n",
       " 'Nimalan\\t9878787230\\n',\n",
       " 'Nimalan\\t9878787230\\n',\n",
       " 'Nimalan\\t9878787230\\n',\n",
       " 'Nimalan\\t9878787230\\n',\n",
       " 'Nimalan\\t9878787230\\n',\n",
       " 'Nimalan\\t9878787230\\n',\n",
       " 'Nimalan\\t9878787230\\n',\n",
       " 'Nimalan\\t9878787230\\n',\n",
       " 'Nimalan\\t9878787230\\n',\n",
       " 'Nimalan\\t9878787230\\n',\n",
       " 'Nimalan\\t9878787230\\n',\n",
       " 'Nimalan\\t9878787230\\n',\n",
       " 'Nimalan\\t9878787230\\n',\n",
       " 'Nimalan\\t9878787230\\n',\n",
       " 'Nimalan\\t9878787230\\n']"
      ]
     },
     "execution_count": 33,
     "metadata": {},
     "output_type": "execute_result"
    }
   ],
   "source": [
    "text"
   ]
  },
  {
   "cell_type": "code",
   "execution_count": 34,
   "id": "032f6e57",
   "metadata": {},
   "outputs": [
    {
     "data": {
      "text/plain": [
       "'Nimalan\\t9878787230\\n Nimalan\\t9878787230\\n Nimalan\\t9878787230\\n Nimalan\\t9878787230\\n Nimalan\\t9878787230\\n Nimalan\\t9878787230\\n Nimalan\\t9878787230\\n Nimalan\\t9878787230\\n Nimalan\\t9878787230\\n Nimalan\\t9878787230\\n Nimalan\\t9878787230\\n Nimalan\\t9878787230\\n Nimalan\\t9878787230\\n Nimalan\\t9878787230\\n Nimalan\\t9878787230\\n Nimalan\\t9878787230\\n Nimalan\\t9878787230\\n Nimalan\\t9878787230\\n Nimalan\\t9878787230\\n Nimalan\\t9878787230\\n Nimalan\\t9878787230\\n Nimalan\\t9878787230\\n Nimalan\\t9878787230\\n Nimalan\\t9878787230\\n Nimalan\\t9878787230\\n'"
      ]
     },
     "execution_count": 34,
     "metadata": {},
     "output_type": "execute_result"
    }
   ],
   "source": [
    "text = \" \".join(text)\n",
    "text"
   ]
  },
  {
   "cell_type": "code",
   "execution_count": 35,
   "id": "978c725b",
   "metadata": {},
   "outputs": [],
   "source": [
    "doc1=nlp(text)\n",
    "phone_number=[]\n",
    "phone_number_count=0\n",
    "for token in doc1:\n",
    "    if token.like_num ==True:\n",
    "        phone_number.append(token)\n",
    "        phone_number_count+=1"
   ]
  },
  {
   "cell_type": "code",
   "execution_count": 36,
   "id": "bf66a264",
   "metadata": {},
   "outputs": [
    {
     "data": {
      "text/plain": [
       "25"
      ]
     },
     "execution_count": 36,
     "metadata": {},
     "output_type": "execute_result"
    }
   ],
   "source": [
    "phone_number_count"
   ]
  },
  {
   "cell_type": "code",
   "execution_count": 38,
   "id": "9f6ed07f",
   "metadata": {},
   "outputs": [
    {
     "data": {
      "text/plain": [
       "25"
      ]
     },
     "execution_count": 38,
     "metadata": {},
     "output_type": "execute_result"
    }
   ],
   "source": [
    "len(phone_number)"
   ]
  },
  {
   "cell_type": "code",
   "execution_count": 39,
   "id": "007c1b43",
   "metadata": {},
   "outputs": [
    {
     "data": {
      "text/plain": [
       "[9878787230,\n",
       " 9878787230,\n",
       " 9878787230,\n",
       " 9878787230,\n",
       " 9878787230,\n",
       " 9878787230,\n",
       " 9878787230,\n",
       " 9878787230,\n",
       " 9878787230,\n",
       " 9878787230,\n",
       " 9878787230,\n",
       " 9878787230,\n",
       " 9878787230,\n",
       " 9878787230,\n",
       " 9878787230,\n",
       " 9878787230,\n",
       " 9878787230,\n",
       " 9878787230,\n",
       " 9878787230,\n",
       " 9878787230,\n",
       " 9878787230,\n",
       " 9878787230,\n",
       " 9878787230,\n",
       " 9878787230,\n",
       " 9878787230]"
      ]
     },
     "execution_count": 39,
     "metadata": {},
     "output_type": "execute_result"
    }
   ],
   "source": [
    "phone_number"
   ]
  },
  {
   "cell_type": "code",
   "execution_count": 41,
   "id": "2b007ced",
   "metadata": {},
   "outputs": [],
   "source": [
    "with open('Data/rating_arrow.txt') as d1:\n",
    "    text = d1.readlines()"
   ]
  },
  {
   "cell_type": "code",
   "execution_count": 43,
   "id": "410a3bfa",
   "metadata": {},
   "outputs": [
    {
     "data": {
      "text/plain": [
       "'\\n \\n Ratingarrow_drop_down\\n Hoursarrow_drop_down\\n Sort byarrow_drop_down\\n Loading\\n  \\n Keys -The Moving Solution\\n Sponsored\\n 4.4\\n (97)\\n Removalist\\n Closed â‹… Opens 8â€¯am Mon5 Purdy Place, Canning Vale Western Australia\\n \\n Website\\n \\n \\n Directions\\n \\n \\n Call\\n \\n Share\\n  \\n Adlam Transport Removals & Storage\\n Sponsored\\n 4.7\\n (332)\\n Removalist\\n Closed â‹… Opens 8â€¯am Mon51 Greenwich Parade, Neerabup WA\\n \\n Website\\n \\n \\n Directions\\n \\n \\n Call\\n \\n Share\\n  \\n Best Home Packers Perth\\n 5.0\\n (26)\\n Removals Service\\n 10+ years in business\\n Closed â‹… Opens 7â€¯am Mon0422 916 683\\n Online estimates\\n \\n Website\\n \\n Quote\\n \\n Call\\n \\n Share\\n  \\n The Moving Man\\n 4.6\\n (104)\\n Removalist\\n 35+ years in business\\n Closed â‹… Opens 8â€¯am Mon(08) 9295 6037\\n  \\n Provides: Packers And Movers\\n \\n Website\\n \\n \\n Call\\n \\n Share\\n  \\n Cheap Movers N Packers\\n 2.9\\n (46)\\n Removalist\\n 15+ years in business\\n Open 24 hours0451 230 047\\n  \\n Provides: Movers And Packers\\n \\n Website\\n \\n \\n Call\\n \\n Share\\n  \\n Best Movers & Packers Perth\\n 4.7\\n (53)\\n Removalist\\n Harrisdale WA0472 663 979\\n  \\n \"Would recommend Best Movers to all my friends and family !â€™\"\\n \\n Website\\n \\n \\n Directions\\n \\n \\n Call\\n \\n Share\\n  \\n AAA Storage & Removals Wembley\\n 5.0\\n (128)\\n Storage facility\\n Closed â‹… Opens 8:30â€¯am MonWembley WA(08) 9285 8000\\n  \\n \"I used their recommended Packers and the AAA removalists.\"\\n \\n Website\\n \\n \\n Directions\\n \\n \\n Call\\n \\n Share\\n  \\n Perth Removals and Storage\\n 4.9\\n (272)\\n Removalist\\n 5+ years in business\\n Closed â‹… Opens 8â€¯am TueWelshpool WA0474 003 139\\n  \\n \"This is the 3rd time Iâ€™ve used these movers.\"\\n \\n Website\\n \\n \\n Directions\\n \\n \\n Call\\n \\n Share\\n  \\n Perth Cheap Movers\\n 4.1\\n (200)\\n Removals Service\\n 7+ years in business\\n Open â‹… Closes 11â€¯pmLandsdale WA0401 442 440\\n \\n Website\\n \\n \\n Directions\\n \\n \\n Call\\n \\n Share\\n  \\n Stylin\\' Moves Transport\\n 5.0\\n (88)\\n Transportation service\\n Open â‹… Closes 9:30â€¯pm0411 931 222\\n  \\n Provides: Furniture Movers\\n \\n Website\\n \\n \\n Call\\n \\n Share\\n  \\n A One Perth Movers\\n 5.0\\n (57)\\n Removals Service\\n 3+ years in business\\n Open â‹… Closes 10â€¯pm0406 900 006\\n Online appointments\\n \\n Website\\n \\n \\n Call\\n \\n Share\\n  \\n CBD Movers Perth\\n 4.1\\n (296)\\n Removalist\\n Closes soon â‹… 8â€¯pmPerth WA1300 585 828\\n  \\n Provides: Movers And Packers\\n \\n Website\\n \\n \\n Directions\\n \\n \\n Call\\n \\n Share\\n  \\n 2 Easy Removalists Perth\\n 4.9\\n (735)\\n Removalist\\n 20+ years in business\\n Closed â‹… Opens 7â€¯am MonOsborne Park WA(08) 6114 9428\\n  \\n \"We also got Packers for our move.\"\\n \\n Website\\n \\n \\n Directions\\n \\n Quote\\n \\n Call\\n \\n Share\\n  \\n Fox Home and Office Removalists Perth\\n 5.0\\n (772)\\n Removalist\\n Open 24 hours0488 839 369\\n  \\n \"Really great team of movers, and super happy to go the extra mile!\"\\n \\n Website\\n \\n \\n Call\\n \\n Share\\n  \\n Moving Maids\\n 4.2\\n (5)\\n Removalist\\n 10+ years in business\\n Closed â‹… Opens 9â€¯am MonPerth WA0400 015 365\\n \\n Call\\n \\n Share\\n  \\n Francis \\'The Removalist\\' powering Kroos Logistics\\n 5.0\\n (41)\\n Removalist\\n Open 24 hoursThornlie WA0422 288 216\\n On-site services\\n \\n Website\\n \\n \\n Directions\\n \\n Quote\\n \\n Call\\n \\n Share\\n  \\n Brilliance Removalists\\n 4.9\\n (488)\\n Removalist\\n Closed â‹… Opens 8â€¯am MonBeckenham WA1300 216 734\\n  \\n \"Very careful movers, polite and friendly.\"\\n \\n Website\\n \\n \\n Directions\\n \\n \\n Call\\n \\n Share\\n  \\n Transpac Removals\\n 4.7\\n (32)\\n Removalist\\n 10+ years in business\\n Closed â‹… Opens 9â€¯am MonSouth Perth WA(08) 9284 7095\\n  \\n \"Made for a costly move within the same suburb.\"\\n \\n Website\\n \\n \\n Directions\\n \\n \\n Call\\n \\n Share\\n  \\n 1800 Move It\\n 4.6\\n (347)\\n Removalist\\n 7+ years in business\\n Closed â‹… Opens 7â€¯am MonClaremont WA(08) 9380 6180\\n  \\n Provides: Moving And Packing\\n \\n Website\\n \\n \\n Directions\\n \\n \\n Call\\n \\n Share\\n  \\n Safe Hand Movers\\n 4.6\\n (24)\\n Moving Supply Shop\\n Closed â‹… Opens 6â€¯am MonBeckenham WA0411 207 941\\n Delivery\\n \\n Website\\n \\n \\n Directions\\n \\n \\n Call\\n \\n Share\\n  \\n AAA Bargain Removals & Storage\\n 4.7\\n (48)\\n Removalist\\n 7+ years in business\\n Closed â‹… Opens 9â€¯am MonO\\'Connor WA0483 199 082\\n  \\n \"... for 7 moves, great value, packers been with company for long time, ...\"\\n \\n Website\\n \\n \\n Directions\\n \\n \\n Call\\n \\n Share\\n  \\n Cheap House Movers\\n 4.4\\n (82)\\n Removals Service\\n Closes soon â‹… 8â€¯pm1300 891 341\\n  \\n \"Thank you CBD movers.\"\\n \\n Website\\n \\n \\n Call\\n \\n Share\\n Next >\\n Showing results 1 â€“ 20 of many\\n Loading\\n \\n \\n  \\n  \\n  \\n  \\n  \\n  \\n  \\n  \\n  \\n  \\n  \\n  \\n  \\n  \\n  \\n  \\n  \\n  \\n  \\n  \\n View all\\n Best Home Packers Perth\\n 5.0\\n (26)\\n 10+ years in business\\n â€¢ \\n Closed â€¢ Serves Perth\\n \\n Website\\n \\n Request a quote\\n \\n Call\\n \\n Share\\n Overview\\n Services\\n Reviews\\n Updates\\n Photos\\n Closed â‹… Opens 7â€¯am Mon\\n \\n 0422 916 683\\n \\n \\n www.besthomepackersperth.com.au\\n \\n Request a quote\\n Usually responds in a day\\n Services: Moving-related packing, Deceased Estates, Home Packing, House Clear, House Packing, Move Packing, Moving Home, Moving House, Packing And Unpacking, Packing Materials\\n Serves Perth\\n Google review summary\\n 54321\\n WRITE A REVIEW\\n 5.0\\n (26)\\n  \\n \"â€¦ Packers Perth. Due to illness and medical appointments packing up to move was something that was going to be nigh on impossible. The team of ladies were amazing, the on â€¦\"\\n \\n View more reviews\\n From Best Home Packers Perth\\n \"* 20 Years Experience and Absolutely Reliable * Organised and Methodical, We Recycle * Careful and Respectful With Your Valuable Treasures * Fast and Effective * Can Do Attitude and Service With A Smile Its that time We offer a home packing service...  More\\n Details\\n From the business\\n Identifies as women-owned\\n Service options\\n Online estimates\\n No online appointments\\n View 1 more\\n Web results\\n Latest updates\\n Would you like your china packed safely for your move? Give us a call, we specialise iâ€¦\\n May 13, 2023\\n Call now\\n Would you like your favourite antique treasures packed? We will have it packed in no time carefully, professionally andâ€¦\\n Feb 27, 2022\\n Is your home a little crowded? We would love to get it ready for the removalist for you. We pack all kinds of homes everyâ€¦\\n Feb 8, 2022\\n Do you have a huge kitchen to be sorted? No problem at all. We can organise it for you and more.\\n Feb 2, 2022\\n We packed \\'\\'only\\'\\' 2 rooms in a home with water damage. All had to be taken out, wrapped carefully and put into boxes sâ€¦\\n Oct 17, 2021\\n From Here To There In No Time\\n Oct 1, 2021\\n Packing at the Hilton Hotel\\n Jul 6, 2021\\n Even when you can\\'t get home because of Covid, we are here to pack your belongings with care!\\n Jul 6, 2021\\n We come fully equipped to pack your home\\n Jul 6, 2021\\n Another Home packed. Mid Century style including the wonderful clothes.\\n Jul 6, 2021\\n View all\\n \\n'"
      ]
     },
     "execution_count": 43,
     "metadata": {},
     "output_type": "execute_result"
    }
   ],
   "source": [
    "text = \" \".join(text)\n",
    "text"
   ]
  },
  {
   "cell_type": "code",
   "execution_count": 49,
   "id": "9b8c9236",
   "metadata": {},
   "outputs": [],
   "source": [
    "doc = nlp(text)\n",
    "\n",
    "email=[]\n",
    "\n",
    "for token in doc:\n",
    "    if token.is_alpha == True:\n",
    "        email.append(token)\n",
    "        \n"
   ]
  },
  {
   "cell_type": "code",
   "execution_count": 51,
   "id": "71d47d21",
   "metadata": {},
   "outputs": [
    {
     "data": {
      "text/plain": [
       "721"
      ]
     },
     "execution_count": 51,
     "metadata": {},
     "output_type": "execute_result"
    }
   ],
   "source": [
    "len(email)"
   ]
  },
  {
   "cell_type": "code",
   "execution_count": 52,
   "id": "47041007",
   "metadata": {},
   "outputs": [],
   "source": [
    "doc=nlp(\"I ate an apple\")"
   ]
  },
  {
   "cell_type": "code",
   "execution_count": null,
   "id": "cdbbba7c",
   "metadata": {},
   "outputs": [],
   "source": [
    "for token in doc:\n",
    "    print(token.)"
   ]
  },
  {
   "cell_type": "code",
   "execution_count": 1,
   "id": "47ac7a7b",
   "metadata": {},
   "outputs": [],
   "source": [
    "import spacy\n",
    "from spacy import displacy"
   ]
  },
  {
   "cell_type": "code",
   "execution_count": 2,
   "id": "30800216",
   "metadata": {},
   "outputs": [],
   "source": [
    "NER = spacy.load(\"en_core_web_sm\")"
   ]
  },
  {
   "cell_type": "code",
   "execution_count": 3,
   "id": "50420b11",
   "metadata": {},
   "outputs": [],
   "source": [
    "raw_text = \"I ate an apple.\"\n",
    "\n",
    "text1= NER(raw_text)"
   ]
  },
  {
   "cell_type": "code",
   "execution_count": 4,
   "id": "ec3306cf",
   "metadata": {},
   "outputs": [],
   "source": [
    "for word in text1.ents:\n",
    "    print(word.text)\n",
    "    print(word.label_)"
   ]
  },
  {
   "cell_type": "code",
   "execution_count": 7,
   "id": "1b6b213d",
   "metadata": {},
   "outputs": [],
   "source": [
    "nlp = spacy.load(\"en_core_web_sm\")\n",
    "doc = nlp(\"I ate an apple\")\n"
   ]
  },
  {
   "cell_type": "code",
   "execution_count": 8,
   "id": "f81cc3fc",
   "metadata": {},
   "outputs": [
    {
     "data": {
      "text/plain": [
       "spacy.tokens.doc.Doc"
      ]
     },
     "execution_count": 8,
     "metadata": {},
     "output_type": "execute_result"
    }
   ],
   "source": [
    "type(doc)"
   ]
  },
  {
   "cell_type": "code",
   "execution_count": 9,
   "id": "925c07a3",
   "metadata": {},
   "outputs": [],
   "source": [
    "for ent in doc.ents:\n",
    "    print(ent.text, ent.start_char, ent.end_char, ent.label_)"
   ]
  },
  {
   "cell_type": "code",
   "execution_count": 10,
   "id": "71c15916",
   "metadata": {},
   "outputs": [
    {
     "ename": "NameError",
     "evalue": "name 'ent' is not defined",
     "output_type": "error",
     "traceback": [
      "\u001b[1;31m---------------------------------------------------------------------------\u001b[0m",
      "\u001b[1;31mNameError\u001b[0m                                 Traceback (most recent call last)",
      "Cell \u001b[1;32mIn[10], line 1\u001b[0m\n\u001b[1;32m----> 1\u001b[0m \u001b[38;5;28mtype\u001b[39m(ent)\n",
      "\u001b[1;31mNameError\u001b[0m: name 'ent' is not defined"
     ]
    }
   ],
   "source": [
    "type(ent)"
   ]
  },
  {
   "cell_type": "code",
   "execution_count": 11,
   "id": "647ae840",
   "metadata": {},
   "outputs": [
    {
     "data": {
      "text/plain": [
       "()"
      ]
     },
     "execution_count": 11,
     "metadata": {},
     "output_type": "execute_result"
    }
   ],
   "source": [
    "doc.ents"
   ]
  },
  {
   "cell_type": "code",
   "execution_count": null,
   "id": "98b956e1",
   "metadata": {},
   "outputs": [],
   "source": []
  }
 ],
 "metadata": {
  "kernelspec": {
   "display_name": "Python 3 (ipykernel)",
   "language": "python",
   "name": "python3"
  },
  "language_info": {
   "codemirror_mode": {
    "name": "ipython",
    "version": 3
   },
   "file_extension": ".py",
   "mimetype": "text/x-python",
   "name": "python",
   "nbconvert_exporter": "python",
   "pygments_lexer": "ipython3",
   "version": "3.11.4"
  }
 },
 "nbformat": 4,
 "nbformat_minor": 5
}
