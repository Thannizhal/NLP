{
 "cells": [
  {
   "cell_type": "code",
   "execution_count": 1,
   "id": "8a4ddf2f",
   "metadata": {},
   "outputs": [],
   "source": [
    "import re"
   ]
  },
  {
   "cell_type": "markdown",
   "id": "097366cb",
   "metadata": {},
   "source": [
    "visit regex101.com"
   ]
  },
  {
   "cell_type": "code",
   "execution_count": 18,
   "id": "a016e636",
   "metadata": {},
   "outputs": [],
   "source": [
    "chat1 = 'codebasics: you ask lot of questions 😠  1235678912, abc@xyz.com'\n",
    "chat2 = 'codebasics: here it is: (123)-567-8912, abX@xyz.com'\n",
    "chat3 = 'codebasics: yes, phone: 1235678912 email: ab_c@xyz.com'"
   ]
  },
  {
   "cell_type": "code",
   "execution_count": 3,
   "id": "7e9c522c",
   "metadata": {},
   "outputs": [
    {
     "data": {
      "text/plain": [
       "['1235678912']"
      ]
     },
     "execution_count": 3,
     "metadata": {},
     "output_type": "execute_result"
    }
   ],
   "source": [
    "pattern = '\\d{10}'\n",
    "\n",
    "matches = re.findall(pattern,chat1)\n",
    "\n",
    "matches"
   ]
  },
  {
   "cell_type": "code",
   "execution_count": 5,
   "id": "eeaa9373",
   "metadata": {},
   "outputs": [
    {
     "data": {
      "text/plain": [
       "['(123)-567-8912']"
      ]
     },
     "execution_count": 5,
     "metadata": {},
     "output_type": "execute_result"
    }
   ],
   "source": [
    "pattern = '\\(\\d{3}\\)-\\d{3}-\\d{4}'\n",
    "\n",
    "matches = re.findall(pattern,chat2)\n",
    "\n",
    "matches"
   ]
  },
  {
   "cell_type": "code",
   "execution_count": 9,
   "id": "98879999",
   "metadata": {},
   "outputs": [],
   "source": [
    "def phone_pattern_detector(text):\n",
    "    pattern = '\\d{10}|\\(\\d{3}\\)-\\d{3}-\\d{4}'\n",
    "    matches = re.findall(pattern,text)\n",
    "    print(matches)    "
   ]
  },
  {
   "cell_type": "code",
   "execution_count": 10,
   "id": "9b981462",
   "metadata": {},
   "outputs": [
    {
     "name": "stdout",
     "output_type": "stream",
     "text": [
      "['1235678912']\n"
     ]
    }
   ],
   "source": [
    "phone_pattern_detector(chat1)"
   ]
  },
  {
   "cell_type": "code",
   "execution_count": 11,
   "id": "55107b46",
   "metadata": {},
   "outputs": [
    {
     "name": "stdout",
     "output_type": "stream",
     "text": [
      "['(123)-567-8912']\n"
     ]
    }
   ],
   "source": [
    "phone_pattern_detector(chat2)"
   ]
  },
  {
   "cell_type": "code",
   "execution_count": 12,
   "id": "eeef2ccf",
   "metadata": {},
   "outputs": [
    {
     "name": "stdout",
     "output_type": "stream",
     "text": [
      "['1235678912']\n"
     ]
    }
   ],
   "source": [
    "phone_pattern_detector(chat3)"
   ]
  },
  {
   "cell_type": "code",
   "execution_count": 15,
   "id": "b2a708b1",
   "metadata": {},
   "outputs": [],
   "source": [
    "def email_detector(text):\n",
    "    pattern='[a-zA-Z0-9_]*@[a-zA-Z0-9_]*\\.[a-zA-z]*'\n",
    "    matches=re.findall(pattern,text)\n",
    "    print(matches)"
   ]
  },
  {
   "cell_type": "code",
   "execution_count": 19,
   "id": "bab338c5",
   "metadata": {},
   "outputs": [
    {
     "name": "stdout",
     "output_type": "stream",
     "text": [
      "['abc@xyz.com']\n"
     ]
    }
   ],
   "source": [
    "email_detector(chat1)"
   ]
  },
  {
   "cell_type": "code",
   "execution_count": 20,
   "id": "5a8008b8",
   "metadata": {},
   "outputs": [
    {
     "name": "stdout",
     "output_type": "stream",
     "text": [
      "['abX@xyz.com']\n"
     ]
    }
   ],
   "source": [
    "email_detector(chat2)"
   ]
  },
  {
   "cell_type": "code",
   "execution_count": 21,
   "id": "af48af2d",
   "metadata": {},
   "outputs": [
    {
     "name": "stdout",
     "output_type": "stream",
     "text": [
      "['ab_c@xyz.com']\n"
     ]
    }
   ],
   "source": [
    "email_detector(chat3)"
   ]
  },
  {
   "cell_type": "markdown",
   "id": "22e72467",
   "metadata": {},
   "source": [
    "#### Order Number Retrieval"
   ]
  },
  {
   "cell_type": "code",
   "execution_count": 24,
   "id": "61257e5b",
   "metadata": {},
   "outputs": [],
   "source": [
    "order_chat1='codebasics: Hello, I am having an issue with my order # 412889912'\n",
    "order_chat2='codebasics: I have a problem with my order number 412889912'\n",
    "order_chat3='codebasics: My order 412889912 is having an issue, I was charged 300$ when online it says 280$'"
   ]
  },
  {
   "cell_type": "code",
   "execution_count": 22,
   "id": "22909808",
   "metadata": {},
   "outputs": [],
   "source": [
    "def order_number_tracker(text):\n",
    "    pattern = 'order[^\\d]*(\\d*)'\n",
    "    matches = re.findall(pattern,text)\n",
    "    print(matches)"
   ]
  },
  {
   "cell_type": "code",
   "execution_count": 25,
   "id": "487cfc18",
   "metadata": {},
   "outputs": [
    {
     "name": "stdout",
     "output_type": "stream",
     "text": [
      "['412889912']\n"
     ]
    }
   ],
   "source": [
    "order_number_tracker(order_chat1)"
   ]
  },
  {
   "cell_type": "code",
   "execution_count": 26,
   "id": "5ea9e89d",
   "metadata": {},
   "outputs": [
    {
     "name": "stdout",
     "output_type": "stream",
     "text": [
      "['412889912']\n"
     ]
    }
   ],
   "source": [
    "order_number_tracker(order_chat2)"
   ]
  },
  {
   "cell_type": "code",
   "execution_count": 27,
   "id": "72a563f3",
   "metadata": {},
   "outputs": [
    {
     "name": "stdout",
     "output_type": "stream",
     "text": [
      "['412889912']\n"
     ]
    }
   ],
   "source": [
    "order_number_tracker(order_chat3)"
   ]
  },
  {
   "cell_type": "code",
   "execution_count": null,
   "id": "ec5529db",
   "metadata": {},
   "outputs": [],
   "source": []
  }
 ],
 "metadata": {
  "kernelspec": {
   "display_name": "Python 3 (ipykernel)",
   "language": "python",
   "name": "python3"
  },
  "language_info": {
   "codemirror_mode": {
    "name": "ipython",
    "version": 3
   },
   "file_extension": ".py",
   "mimetype": "text/x-python",
   "name": "python",
   "nbconvert_exporter": "python",
   "pygments_lexer": "ipython3",
   "version": "3.11.4"
  }
 },
 "nbformat": 4,
 "nbformat_minor": 5
}
